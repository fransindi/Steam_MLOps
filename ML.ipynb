{
 "cells": [
  {
   "cell_type": "markdown",
   "metadata": {},
   "source": [
    "### Comenzamos el algoritmo de ML para recomendacion de juegos"
   ]
  },
  {
   "cell_type": "markdown",
   "metadata": {},
   "source": [
    "Nos centraremos en algo basico que brinde una solucion, como una matriz de similitud segun los generos de cada titulo, asi tendremos la fiabilidad de que los juegos seran de cierta manera similares."
   ]
  },
  {
   "cell_type": "code",
   "execution_count": 129,
   "metadata": {},
   "outputs": [],
   "source": [
    "import pandas as pd\n",
    "import numpy as np\n"
   ]
  },
  {
   "cell_type": "code",
   "execution_count": 130,
   "metadata": {},
   "outputs": [
    {
     "name": "stdout",
     "output_type": "stream",
     "text": [
      "(120445, 13)\n"
     ]
    }
   ],
   "source": [
    "import json\n",
    "\n",
    "data = []\n",
    "with open('data/output_steam_games.json', 'r') as f:\n",
    "    for line in f:\n",
    "        try:\n",
    "            obj = json.loads(line)\n",
    "            data.append(obj)\n",
    "        except json.JSONDecodeError as e:\n",
    "            print(\"Error en línea:\", line)\n",
    "\n",
    "\n",
    "steam = pd.DataFrame(data)\n",
    "\n",
    "print(steam.shape)\n",
    "\n"
   ]
  },
  {
   "cell_type": "code",
   "execution_count": 131,
   "metadata": {},
   "outputs": [
    {
     "name": "stdout",
     "output_type": "stream",
     "text": [
      "(32135, 13)\n"
     ]
    },
    {
     "data": {
      "text/plain": [
       "Index(['publisher', 'genres', 'app_name', 'title', 'url', 'release_date',\n",
       "       'tags', 'reviews_url', 'specs', 'price', 'early_access', 'id',\n",
       "       'developer'],\n",
       "      dtype='object')"
      ]
     },
     "execution_count": 131,
     "metadata": {},
     "output_type": "execute_result"
    }
   ],
   "source": [
    "steam = steam.dropna(thresh=3)\n",
    "print(steam.shape)\n",
    "steam.columns"
   ]
  },
  {
   "cell_type": "code",
   "execution_count": 132,
   "metadata": {},
   "outputs": [],
   "source": [
    "steam.head(1)\n",
    "steam['price'] = steam['price'].apply(pd.to_numeric, errors='coerce')\n",
    "steam.price = steam.price.fillna(0)\n",
    "steam['genres'].fillna('[]', inplace=True)\n",
    "steam['genres'] = steam['genres'].astype(str)\n",
    "steam.dropna(inplace=True)"
   ]
  },
  {
   "cell_type": "code",
   "execution_count": 133,
   "metadata": {},
   "outputs": [
    {
     "data": {
      "text/html": [
       "<div>\n",
       "<style scoped>\n",
       "    .dataframe tbody tr th:only-of-type {\n",
       "        vertical-align: middle;\n",
       "    }\n",
       "\n",
       "    .dataframe tbody tr th {\n",
       "        vertical-align: top;\n",
       "    }\n",
       "\n",
       "    .dataframe thead th {\n",
       "        text-align: right;\n",
       "    }\n",
       "</style>\n",
       "<table border=\"1\" class=\"dataframe\">\n",
       "  <thead>\n",
       "    <tr style=\"text-align: right;\">\n",
       "      <th></th>\n",
       "      <th>price</th>\n",
       "      <th>title</th>\n",
       "      <th>genres</th>\n",
       "    </tr>\n",
       "  </thead>\n",
       "  <tbody>\n",
       "    <tr>\n",
       "      <th>88310</th>\n",
       "      <td>4.99</td>\n",
       "      <td>Lost Summoner Kitty</td>\n",
       "      <td>['Action', 'Casual', 'Indie', 'Simulation', 'S...</td>\n",
       "    </tr>\n",
       "  </tbody>\n",
       "</table>\n",
       "</div>"
      ],
      "text/plain": [
       "       price                title  \\\n",
       "88310   4.99  Lost Summoner Kitty   \n",
       "\n",
       "                                                  genres  \n",
       "88310  ['Action', 'Casual', 'Indie', 'Simulation', 'S...  "
      ]
     },
     "execution_count": 133,
     "metadata": {},
     "output_type": "execute_result"
    }
   ],
   "source": [
    "df_ml = steam[['price','title','genres']]\n",
    "df_ml.set_index('title')\n",
    "df_ml.reset_index\n",
    "df_ml.head(1)"
   ]
  },
  {
   "cell_type": "code",
   "execution_count": 134,
   "metadata": {},
   "outputs": [
    {
     "name": "stderr",
     "output_type": "stream",
     "text": [
      "C:\\Users\\niko\\AppData\\Local\\Temp\\ipykernel_4008\\2826041760.py:1: SettingWithCopyWarning: \n",
      "A value is trying to be set on a copy of a slice from a DataFrame.\n",
      "Try using .loc[row_indexer,col_indexer] = value instead\n",
      "\n",
      "See the caveats in the documentation: https://pandas.pydata.org/pandas-docs/stable/user_guide/indexing.html#returning-a-view-versus-a-copy\n",
      "  df_ml['genres'] = df_ml['genres'].apply(lambda x: ','.join(eval(x)))\n"
     ]
    }
   ],
   "source": [
    "df_ml['genres'] = df_ml['genres'].apply(lambda x: ','.join(eval(x)))\n",
    "\n",
    "genres_encoded = df_ml['genres'].str.get_dummies(',')\n",
    "\n",
    "df_ml = pd.concat([df_ml, genres_encoded], axis=1)"
   ]
  },
  {
   "cell_type": "code",
   "execution_count": 135,
   "metadata": {},
   "outputs": [],
   "source": [
    "from sklearn.metrics.pairwise import cosine_similarity\n",
    "from sklearn.preprocessing import StandardScaler\n",
    "\n",
    "\n",
    "scaler = StandardScaler()\n",
    "df_ml['price_normalized'] = scaler.fit_transform(df_ml['price'].values.reshape(-1, 1))\n",
    "\n",
    "\n",
    "features = pd.concat([genres_encoded, df_ml['price_normalized']], axis=1)\n",
    "\n",
    "similarity_matrix = cosine_similarity(features)\n"
   ]
  },
  {
   "cell_type": "code",
   "execution_count": 136,
   "metadata": {},
   "outputs": [],
   "source": [
    "ml_final = df_ml.reset_index(drop=True)"
   ]
  },
  {
   "cell_type": "code",
   "execution_count": 160,
   "metadata": {},
   "outputs": [
    {
     "name": "stdout",
     "output_type": "stream",
     "text": [
      "                         titulo  \\\n",
      "0           Lost Summoner Kitty   \n",
      "1                     Ironbound   \n",
      "2       Real Pool 3D - Poolians   \n",
      "3                       弹炸人2222   \n",
      "4         Battle Royale Trainer   \n",
      "...                         ...   \n",
      "23617              Kebab it Up!   \n",
      "23618            Colony On Mars   \n",
      "23619  LOGistICAL: South Africa   \n",
      "23620             Russian Roads   \n",
      "23621       EXIT 2 - Directions   \n",
      "\n",
      "                                     juegos_recomendados  \n",
      "0      [Trivia Vault: Mixed Trivia, R.C. Bot Inc., A....  \n",
      "1      [Shadow Hunter, Immortal Empire, MINDNIGHT, Vu...  \n",
      "2      [Snooker-online multiplayer snooker game!, Mal...  \n",
      "3      [Blood and Bacon, Luke Sidewalker, Cyber Utopi...  \n",
      "4      [Rocket Craze 3D, Parkan 2, The Tomorrow War, ...  \n",
      "...                                                  ...  \n",
      "23617  [Gal-X-E, Dyna Bomb - Soundtrack OST, Tomato J...  \n",
      "23618  [Just Deserts - Original Sound Track, BoomTown...  \n",
      "23619  [iBomber Defense Pacific, Bumbledore, Bravelan...  \n",
      "23620  [Russian Roads, Car Mechanic Simulator 2015 - ...  \n",
      "23621  [Ninja Reflex: Steamworks Edition, Gravitron 2...  \n",
      "\n",
      "[23622 rows x 2 columns]\n"
     ]
    }
   ],
   "source": [
    "recommendations = []\n",
    "\n",
    "for game_index in range(len(df_ml)):\n",
    "\n",
    "    similar_games = list(enumerate(similarity_matrix[game_index]))\n",
    "    sorted_similar_games = sorted(similar_games, key=lambda x: x[1], reverse=True)\n",
    "\n",
    "    top_n = 5\n",
    "    recommended_games = []\n",
    "    for i, sim in sorted_similar_games[1:top_n+1]:\n",
    "        recommended_games.append(ml_final['title'][i])\n",
    "\n",
    "\n",
    "    recommendations.append({'titulo': ml_final['title'][game_index], 'juegos_recomendados': recommended_games})\n",
    "\n",
    "\n",
    "recommendations_df = pd.DataFrame(recommendations)\n",
    "\n",
    "\n"
   ]
  },
  {
   "cell_type": "markdown",
   "metadata": {},
   "source": []
  },
  {
   "cell_type": "code",
   "execution_count": 161,
   "metadata": {},
   "outputs": [
    {
     "data": {
      "text/html": [
       "<div>\n",
       "<style scoped>\n",
       "    .dataframe tbody tr th:only-of-type {\n",
       "        vertical-align: middle;\n",
       "    }\n",
       "\n",
       "    .dataframe tbody tr th {\n",
       "        vertical-align: top;\n",
       "    }\n",
       "\n",
       "    .dataframe thead th {\n",
       "        text-align: right;\n",
       "    }\n",
       "</style>\n",
       "<table border=\"1\" class=\"dataframe\">\n",
       "  <thead>\n",
       "    <tr style=\"text-align: right;\">\n",
       "      <th></th>\n",
       "      <th>titulo</th>\n",
       "      <th>juegos_recomendados</th>\n",
       "    </tr>\n",
       "  </thead>\n",
       "  <tbody>\n",
       "    <tr>\n",
       "      <th>0</th>\n",
       "      <td>Lost Summoner Kitty</td>\n",
       "      <td>[Trivia Vault: Mixed Trivia, R.C. Bot Inc., A....</td>\n",
       "    </tr>\n",
       "    <tr>\n",
       "      <th>1</th>\n",
       "      <td>Ironbound</td>\n",
       "      <td>[Shadow Hunter, Immortal Empire, MINDNIGHT, Vu...</td>\n",
       "    </tr>\n",
       "    <tr>\n",
       "      <th>2</th>\n",
       "      <td>Real Pool 3D - Poolians</td>\n",
       "      <td>[Snooker-online multiplayer snooker game!, Mal...</td>\n",
       "    </tr>\n",
       "    <tr>\n",
       "      <th>3</th>\n",
       "      <td>弹炸人2222</td>\n",
       "      <td>[Blood and Bacon, Luke Sidewalker, Cyber Utopi...</td>\n",
       "    </tr>\n",
       "    <tr>\n",
       "      <th>4</th>\n",
       "      <td>Battle Royale Trainer</td>\n",
       "      <td>[Rocket Craze 3D, Parkan 2, The Tomorrow War, ...</td>\n",
       "    </tr>\n",
       "    <tr>\n",
       "      <th>...</th>\n",
       "      <td>...</td>\n",
       "      <td>...</td>\n",
       "    </tr>\n",
       "    <tr>\n",
       "      <th>23617</th>\n",
       "      <td>Kebab it Up!</td>\n",
       "      <td>[Gal-X-E, Dyna Bomb - Soundtrack OST, Tomato J...</td>\n",
       "    </tr>\n",
       "    <tr>\n",
       "      <th>23618</th>\n",
       "      <td>Colony On Mars</td>\n",
       "      <td>[Just Deserts - Original Sound Track, BoomTown...</td>\n",
       "    </tr>\n",
       "    <tr>\n",
       "      <th>23619</th>\n",
       "      <td>LOGistICAL: South Africa</td>\n",
       "      <td>[iBomber Defense Pacific, Bumbledore, Bravelan...</td>\n",
       "    </tr>\n",
       "    <tr>\n",
       "      <th>23620</th>\n",
       "      <td>Russian Roads</td>\n",
       "      <td>[Russian Roads, Car Mechanic Simulator 2015 - ...</td>\n",
       "    </tr>\n",
       "    <tr>\n",
       "      <th>23621</th>\n",
       "      <td>EXIT 2 - Directions</td>\n",
       "      <td>[Ninja Reflex: Steamworks Edition, Gravitron 2...</td>\n",
       "    </tr>\n",
       "  </tbody>\n",
       "</table>\n",
       "<p>23622 rows × 2 columns</p>\n",
       "</div>"
      ],
      "text/plain": [
       "                         titulo  \\\n",
       "0           Lost Summoner Kitty   \n",
       "1                     Ironbound   \n",
       "2       Real Pool 3D - Poolians   \n",
       "3                       弹炸人2222   \n",
       "4         Battle Royale Trainer   \n",
       "...                         ...   \n",
       "23617              Kebab it Up!   \n",
       "23618            Colony On Mars   \n",
       "23619  LOGistICAL: South Africa   \n",
       "23620             Russian Roads   \n",
       "23621       EXIT 2 - Directions   \n",
       "\n",
       "                                     juegos_recomendados  \n",
       "0      [Trivia Vault: Mixed Trivia, R.C. Bot Inc., A....  \n",
       "1      [Shadow Hunter, Immortal Empire, MINDNIGHT, Vu...  \n",
       "2      [Snooker-online multiplayer snooker game!, Mal...  \n",
       "3      [Blood and Bacon, Luke Sidewalker, Cyber Utopi...  \n",
       "4      [Rocket Craze 3D, Parkan 2, The Tomorrow War, ...  \n",
       "...                                                  ...  \n",
       "23617  [Gal-X-E, Dyna Bomb - Soundtrack OST, Tomato J...  \n",
       "23618  [Just Deserts - Original Sound Track, BoomTown...  \n",
       "23619  [iBomber Defense Pacific, Bumbledore, Bravelan...  \n",
       "23620  [Russian Roads, Car Mechanic Simulator 2015 - ...  \n",
       "23621  [Ninja Reflex: Steamworks Edition, Gravitron 2...  \n",
       "\n",
       "[23622 rows x 2 columns]"
      ]
     },
     "execution_count": 161,
     "metadata": {},
     "output_type": "execute_result"
    }
   ],
   "source": [
    "recommendations_df"
   ]
  },
  {
   "cell_type": "markdown",
   "metadata": {},
   "source": [
    "Ahora que tenemos las recomendaciones de cada titulo en el dataframe lo exportamos para luego usarlo en la api."
   ]
  },
  {
   "cell_type": "code",
   "execution_count": 162,
   "metadata": {},
   "outputs": [],
   "source": [
    "recommendations_df.to_csv('data_endpoints/recomendacion.csv')"
   ]
  },
  {
   "cell_type": "code",
   "execution_count": 153,
   "metadata": {},
   "outputs": [
    {
     "data": {
      "text/plain": [
       "0"
      ]
     },
     "execution_count": 153,
     "metadata": {},
     "output_type": "execute_result"
    }
   ],
   "source": [
    "import gc\n",
    "gc.collect()"
   ]
  }
 ],
 "metadata": {
  "kernelspec": {
   "display_name": "steam_games",
   "language": "python",
   "name": "python3"
  },
  "language_info": {
   "codemirror_mode": {
    "name": "ipython",
    "version": 3
   },
   "file_extension": ".py",
   "mimetype": "text/x-python",
   "name": "python",
   "nbconvert_exporter": "python",
   "pygments_lexer": "ipython3",
   "version": "3.11.1"
  },
  "orig_nbformat": 4
 },
 "nbformat": 4,
 "nbformat_minor": 2
}
