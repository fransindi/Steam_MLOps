{
 "cells": [
  {
   "cell_type": "markdown",
   "metadata": {},
   "source": [
    "# MLOps Steam\n"
   ]
  },
  {
   "cell_type": "markdown",
   "metadata": {},
   "source": [
    "Buenas y bienvenidos a este Notebook donde haremos el proceso de ETL a 3 datasets brindados por la plataforma de juegos Steam donde nosotros podremos practicar y brindar una solucion al problema que estan teniendo. Una vez que tratemos los datos nuestro objetivo sera hacer un analisis exploratorio de los datos y a raiz de esto sacar un modelo funcional de inteligencia artificial, que podra ser consumida desde una api por Render.\n"
   ]
  },
  {
   "cell_type": "markdown",
   "metadata": {},
   "source": [
    "Comenzemos con la lectura de los datos y la limpieza de los mismos."
   ]
  },
  {
   "cell_type": "code",
   "execution_count": 102,
   "metadata": {},
   "outputs": [],
   "source": [
    "#instalamos todas las librerias necesarias\n",
    "import pandas as pd\n",
    "import numpy as np\n",
    "import seaborn as sns\n",
    "import matplotlib.pyplot as plt\n",
    "import re\n",
    "import ast"
   ]
  },
  {
   "cell_type": "code",
   "execution_count": 103,
   "metadata": {},
   "outputs": [
    {
     "name": "stdout",
     "output_type": "stream",
     "text": [
      "(120445, 13)\n"
     ]
    },
    {
     "data": {
      "text/html": [
       "<div>\n",
       "<style scoped>\n",
       "    .dataframe tbody tr th:only-of-type {\n",
       "        vertical-align: middle;\n",
       "    }\n",
       "\n",
       "    .dataframe tbody tr th {\n",
       "        vertical-align: top;\n",
       "    }\n",
       "\n",
       "    .dataframe thead th {\n",
       "        text-align: right;\n",
       "    }\n",
       "</style>\n",
       "<table border=\"1\" class=\"dataframe\">\n",
       "  <thead>\n",
       "    <tr style=\"text-align: right;\">\n",
       "      <th></th>\n",
       "      <th>publisher</th>\n",
       "      <th>genres</th>\n",
       "      <th>app_name</th>\n",
       "      <th>title</th>\n",
       "      <th>url</th>\n",
       "      <th>release_date</th>\n",
       "      <th>tags</th>\n",
       "      <th>reviews_url</th>\n",
       "      <th>specs</th>\n",
       "      <th>price</th>\n",
       "      <th>early_access</th>\n",
       "      <th>id</th>\n",
       "      <th>developer</th>\n",
       "    </tr>\n",
       "  </thead>\n",
       "  <tbody>\n",
       "    <tr>\n",
       "      <th>0</th>\n",
       "      <td>NaN</td>\n",
       "      <td>NaN</td>\n",
       "      <td>NaN</td>\n",
       "      <td>NaN</td>\n",
       "      <td>NaN</td>\n",
       "      <td>NaN</td>\n",
       "      <td>NaN</td>\n",
       "      <td>NaN</td>\n",
       "      <td>NaN</td>\n",
       "      <td>NaN</td>\n",
       "      <td>NaN</td>\n",
       "      <td>NaN</td>\n",
       "      <td>NaN</td>\n",
       "    </tr>\n",
       "    <tr>\n",
       "      <th>1</th>\n",
       "      <td>NaN</td>\n",
       "      <td>NaN</td>\n",
       "      <td>NaN</td>\n",
       "      <td>NaN</td>\n",
       "      <td>NaN</td>\n",
       "      <td>NaN</td>\n",
       "      <td>NaN</td>\n",
       "      <td>NaN</td>\n",
       "      <td>NaN</td>\n",
       "      <td>NaN</td>\n",
       "      <td>NaN</td>\n",
       "      <td>NaN</td>\n",
       "      <td>NaN</td>\n",
       "    </tr>\n",
       "    <tr>\n",
       "      <th>2</th>\n",
       "      <td>NaN</td>\n",
       "      <td>NaN</td>\n",
       "      <td>NaN</td>\n",
       "      <td>NaN</td>\n",
       "      <td>NaN</td>\n",
       "      <td>NaN</td>\n",
       "      <td>NaN</td>\n",
       "      <td>NaN</td>\n",
       "      <td>NaN</td>\n",
       "      <td>NaN</td>\n",
       "      <td>NaN</td>\n",
       "      <td>NaN</td>\n",
       "      <td>NaN</td>\n",
       "    </tr>\n",
       "    <tr>\n",
       "      <th>3</th>\n",
       "      <td>NaN</td>\n",
       "      <td>NaN</td>\n",
       "      <td>NaN</td>\n",
       "      <td>NaN</td>\n",
       "      <td>NaN</td>\n",
       "      <td>NaN</td>\n",
       "      <td>NaN</td>\n",
       "      <td>NaN</td>\n",
       "      <td>NaN</td>\n",
       "      <td>NaN</td>\n",
       "      <td>NaN</td>\n",
       "      <td>NaN</td>\n",
       "      <td>NaN</td>\n",
       "    </tr>\n",
       "    <tr>\n",
       "      <th>4</th>\n",
       "      <td>NaN</td>\n",
       "      <td>NaN</td>\n",
       "      <td>NaN</td>\n",
       "      <td>NaN</td>\n",
       "      <td>NaN</td>\n",
       "      <td>NaN</td>\n",
       "      <td>NaN</td>\n",
       "      <td>NaN</td>\n",
       "      <td>NaN</td>\n",
       "      <td>NaN</td>\n",
       "      <td>NaN</td>\n",
       "      <td>NaN</td>\n",
       "      <td>NaN</td>\n",
       "    </tr>\n",
       "  </tbody>\n",
       "</table>\n",
       "</div>"
      ],
      "text/plain": [
       "  publisher genres app_name title  url release_date tags reviews_url specs  \\\n",
       "0       NaN    NaN      NaN   NaN  NaN          NaN  NaN         NaN   NaN   \n",
       "1       NaN    NaN      NaN   NaN  NaN          NaN  NaN         NaN   NaN   \n",
       "2       NaN    NaN      NaN   NaN  NaN          NaN  NaN         NaN   NaN   \n",
       "3       NaN    NaN      NaN   NaN  NaN          NaN  NaN         NaN   NaN   \n",
       "4       NaN    NaN      NaN   NaN  NaN          NaN  NaN         NaN   NaN   \n",
       "\n",
       "  price early_access   id developer  \n",
       "0   NaN          NaN  NaN       NaN  \n",
       "1   NaN          NaN  NaN       NaN  \n",
       "2   NaN          NaN  NaN       NaN  \n",
       "3   NaN          NaN  NaN       NaN  \n",
       "4   NaN          NaN  NaN       NaN  "
      ]
     },
     "execution_count": 103,
     "metadata": {},
     "output_type": "execute_result"
    }
   ],
   "source": [
    "import json\n",
    "\n",
    "data = []\n",
    "with open('data/output_steam_games.json', 'r') as f:\n",
    "    for line in f:\n",
    "        try:\n",
    "            obj = json.loads(line)\n",
    "            data.append(obj)\n",
    "        except json.JSONDecodeError as e:\n",
    "            print(\"Error en línea:\", line)\n",
    "\n",
    "# Convierte la lista de objetos en un DataFrame\n",
    "steam = pd.DataFrame(data)\n",
    "\n",
    "# Imprime el DataFrame\n",
    "print(steam.shape)\n",
    "steam.head()\n"
   ]
  },
  {
   "cell_type": "code",
   "execution_count": 104,
   "metadata": {},
   "outputs": [
    {
     "name": "stdout",
     "output_type": "stream",
     "text": [
      "(32135, 13)\n"
     ]
    },
    {
     "data": {
      "text/html": [
       "<div>\n",
       "<style scoped>\n",
       "    .dataframe tbody tr th:only-of-type {\n",
       "        vertical-align: middle;\n",
       "    }\n",
       "\n",
       "    .dataframe tbody tr th {\n",
       "        vertical-align: top;\n",
       "    }\n",
       "\n",
       "    .dataframe thead th {\n",
       "        text-align: right;\n",
       "    }\n",
       "</style>\n",
       "<table border=\"1\" class=\"dataframe\">\n",
       "  <thead>\n",
       "    <tr style=\"text-align: right;\">\n",
       "      <th></th>\n",
       "      <th>publisher</th>\n",
       "      <th>genres</th>\n",
       "      <th>app_name</th>\n",
       "      <th>title</th>\n",
       "      <th>url</th>\n",
       "      <th>release_date</th>\n",
       "      <th>tags</th>\n",
       "      <th>reviews_url</th>\n",
       "      <th>specs</th>\n",
       "      <th>price</th>\n",
       "      <th>early_access</th>\n",
       "      <th>id</th>\n",
       "      <th>developer</th>\n",
       "    </tr>\n",
       "  </thead>\n",
       "  <tbody>\n",
       "    <tr>\n",
       "      <th>88310</th>\n",
       "      <td>Kotoshiro</td>\n",
       "      <td>[Action, Casual, Indie, Simulation, Strategy]</td>\n",
       "      <td>Lost Summoner Kitty</td>\n",
       "      <td>Lost Summoner Kitty</td>\n",
       "      <td>http://store.steampowered.com/app/761140/Lost_...</td>\n",
       "      <td>2018-01-04</td>\n",
       "      <td>[Strategy, Action, Indie, Casual, Simulation]</td>\n",
       "      <td>http://steamcommunity.com/app/761140/reviews/?...</td>\n",
       "      <td>[Single-player]</td>\n",
       "      <td>4.99</td>\n",
       "      <td>False</td>\n",
       "      <td>761140</td>\n",
       "      <td>Kotoshiro</td>\n",
       "    </tr>\n",
       "    <tr>\n",
       "      <th>88311</th>\n",
       "      <td>Making Fun, Inc.</td>\n",
       "      <td>[Free to Play, Indie, RPG, Strategy]</td>\n",
       "      <td>Ironbound</td>\n",
       "      <td>Ironbound</td>\n",
       "      <td>http://store.steampowered.com/app/643980/Ironb...</td>\n",
       "      <td>2018-01-04</td>\n",
       "      <td>[Free to Play, Strategy, Indie, RPG, Card Game...</td>\n",
       "      <td>http://steamcommunity.com/app/643980/reviews/?...</td>\n",
       "      <td>[Single-player, Multi-player, Online Multi-Pla...</td>\n",
       "      <td>Free To Play</td>\n",
       "      <td>False</td>\n",
       "      <td>643980</td>\n",
       "      <td>Secret Level SRL</td>\n",
       "    </tr>\n",
       "    <tr>\n",
       "      <th>88312</th>\n",
       "      <td>Poolians.com</td>\n",
       "      <td>[Casual, Free to Play, Indie, Simulation, Sports]</td>\n",
       "      <td>Real Pool 3D - Poolians</td>\n",
       "      <td>Real Pool 3D - Poolians</td>\n",
       "      <td>http://store.steampowered.com/app/670290/Real_...</td>\n",
       "      <td>2017-07-24</td>\n",
       "      <td>[Free to Play, Simulation, Sports, Casual, Ind...</td>\n",
       "      <td>http://steamcommunity.com/app/670290/reviews/?...</td>\n",
       "      <td>[Single-player, Multi-player, Online Multi-Pla...</td>\n",
       "      <td>Free to Play</td>\n",
       "      <td>False</td>\n",
       "      <td>670290</td>\n",
       "      <td>Poolians.com</td>\n",
       "    </tr>\n",
       "  </tbody>\n",
       "</table>\n",
       "</div>"
      ],
      "text/plain": [
       "              publisher                                             genres  \\\n",
       "88310         Kotoshiro      [Action, Casual, Indie, Simulation, Strategy]   \n",
       "88311  Making Fun, Inc.               [Free to Play, Indie, RPG, Strategy]   \n",
       "88312      Poolians.com  [Casual, Free to Play, Indie, Simulation, Sports]   \n",
       "\n",
       "                      app_name                    title  \\\n",
       "88310      Lost Summoner Kitty      Lost Summoner Kitty   \n",
       "88311                Ironbound                Ironbound   \n",
       "88312  Real Pool 3D - Poolians  Real Pool 3D - Poolians   \n",
       "\n",
       "                                                     url release_date  \\\n",
       "88310  http://store.steampowered.com/app/761140/Lost_...   2018-01-04   \n",
       "88311  http://store.steampowered.com/app/643980/Ironb...   2018-01-04   \n",
       "88312  http://store.steampowered.com/app/670290/Real_...   2017-07-24   \n",
       "\n",
       "                                                    tags  \\\n",
       "88310      [Strategy, Action, Indie, Casual, Simulation]   \n",
       "88311  [Free to Play, Strategy, Indie, RPG, Card Game...   \n",
       "88312  [Free to Play, Simulation, Sports, Casual, Ind...   \n",
       "\n",
       "                                             reviews_url  \\\n",
       "88310  http://steamcommunity.com/app/761140/reviews/?...   \n",
       "88311  http://steamcommunity.com/app/643980/reviews/?...   \n",
       "88312  http://steamcommunity.com/app/670290/reviews/?...   \n",
       "\n",
       "                                                   specs         price  \\\n",
       "88310                                    [Single-player]          4.99   \n",
       "88311  [Single-player, Multi-player, Online Multi-Pla...  Free To Play   \n",
       "88312  [Single-player, Multi-player, Online Multi-Pla...  Free to Play   \n",
       "\n",
       "      early_access      id         developer  \n",
       "88310        False  761140         Kotoshiro  \n",
       "88311        False  643980  Secret Level SRL  \n",
       "88312        False  670290      Poolians.com  "
      ]
     },
     "execution_count": 104,
     "metadata": {},
     "output_type": "execute_result"
    }
   ],
   "source": [
    "steam = steam.dropna(thresh=3)\n",
    "print(steam.shape)\n",
    "steam.head(3)"
   ]
  },
  {
   "cell_type": "code",
   "execution_count": 105,
   "metadata": {},
   "outputs": [],
   "source": [
    "rows = []\n",
    "with open('data/australian_users_items.json', 'r', encoding='UTF-8') as f:\n",
    "    for line in f.readlines():\n",
    "        rows.append(ast.literal_eval(line))"
   ]
  },
  {
   "cell_type": "code",
   "execution_count": 106,
   "metadata": {},
   "outputs": [],
   "source": [
    "user_items = pd.DataFrame(rows)"
   ]
  },
  {
   "cell_type": "code",
   "execution_count": 107,
   "metadata": {},
   "outputs": [
    {
     "name": "stdout",
     "output_type": "stream",
     "text": [
      "(88310, 5)\n"
     ]
    },
    {
     "data": {
      "text/html": [
       "<div>\n",
       "<style scoped>\n",
       "    .dataframe tbody tr th:only-of-type {\n",
       "        vertical-align: middle;\n",
       "    }\n",
       "\n",
       "    .dataframe tbody tr th {\n",
       "        vertical-align: top;\n",
       "    }\n",
       "\n",
       "    .dataframe thead th {\n",
       "        text-align: right;\n",
       "    }\n",
       "</style>\n",
       "<table border=\"1\" class=\"dataframe\">\n",
       "  <thead>\n",
       "    <tr style=\"text-align: right;\">\n",
       "      <th></th>\n",
       "      <th>user_id</th>\n",
       "      <th>items_count</th>\n",
       "      <th>steam_id</th>\n",
       "      <th>user_url</th>\n",
       "      <th>items</th>\n",
       "    </tr>\n",
       "  </thead>\n",
       "  <tbody>\n",
       "    <tr>\n",
       "      <th>0</th>\n",
       "      <td>76561197970982479</td>\n",
       "      <td>277</td>\n",
       "      <td>76561197970982479</td>\n",
       "      <td>http://steamcommunity.com/profiles/76561197970...</td>\n",
       "      <td>[{'item_id': '10', 'item_name': 'Counter-Strik...</td>\n",
       "    </tr>\n",
       "    <tr>\n",
       "      <th>1</th>\n",
       "      <td>js41637</td>\n",
       "      <td>888</td>\n",
       "      <td>76561198035864385</td>\n",
       "      <td>http://steamcommunity.com/id/js41637</td>\n",
       "      <td>[{'item_id': '10', 'item_name': 'Counter-Strik...</td>\n",
       "    </tr>\n",
       "    <tr>\n",
       "      <th>2</th>\n",
       "      <td>evcentric</td>\n",
       "      <td>137</td>\n",
       "      <td>76561198007712555</td>\n",
       "      <td>http://steamcommunity.com/id/evcentric</td>\n",
       "      <td>[{'item_id': '1200', 'item_name': 'Red Orchest...</td>\n",
       "    </tr>\n",
       "  </tbody>\n",
       "</table>\n",
       "</div>"
      ],
      "text/plain": [
       "             user_id  items_count           steam_id  \\\n",
       "0  76561197970982479          277  76561197970982479   \n",
       "1            js41637          888  76561198035864385   \n",
       "2          evcentric          137  76561198007712555   \n",
       "\n",
       "                                            user_url  \\\n",
       "0  http://steamcommunity.com/profiles/76561197970...   \n",
       "1               http://steamcommunity.com/id/js41637   \n",
       "2             http://steamcommunity.com/id/evcentric   \n",
       "\n",
       "                                               items  \n",
       "0  [{'item_id': '10', 'item_name': 'Counter-Strik...  \n",
       "1  [{'item_id': '10', 'item_name': 'Counter-Strik...  \n",
       "2  [{'item_id': '1200', 'item_name': 'Red Orchest...  "
      ]
     },
     "execution_count": 107,
     "metadata": {},
     "output_type": "execute_result"
    }
   ],
   "source": [
    "user_items = user_items.dropna(thresh=3)\n",
    "print(user_items.shape)\n",
    "user_items.head(3)"
   ]
  },
  {
   "cell_type": "code",
   "execution_count": 108,
   "metadata": {},
   "outputs": [],
   "source": [
    "rows = []\n",
    "with open('data/australian_user_reviews.json', 'r', encoding='UTF-8') as f:\n",
    "    for line in f.readlines():\n",
    "        rows.append(ast.literal_eval(line))"
   ]
  },
  {
   "cell_type": "code",
   "execution_count": 109,
   "metadata": {},
   "outputs": [],
   "source": [
    "user_reviews = pd.DataFrame(rows)"
   ]
  },
  {
   "cell_type": "code",
   "execution_count": 110,
   "metadata": {},
   "outputs": [
    {
     "name": "stdout",
     "output_type": "stream",
     "text": [
      "(25799, 3)\n"
     ]
    },
    {
     "data": {
      "text/html": [
       "<div>\n",
       "<style scoped>\n",
       "    .dataframe tbody tr th:only-of-type {\n",
       "        vertical-align: middle;\n",
       "    }\n",
       "\n",
       "    .dataframe tbody tr th {\n",
       "        vertical-align: top;\n",
       "    }\n",
       "\n",
       "    .dataframe thead th {\n",
       "        text-align: right;\n",
       "    }\n",
       "</style>\n",
       "<table border=\"1\" class=\"dataframe\">\n",
       "  <thead>\n",
       "    <tr style=\"text-align: right;\">\n",
       "      <th></th>\n",
       "      <th>user_id</th>\n",
       "      <th>user_url</th>\n",
       "      <th>reviews</th>\n",
       "    </tr>\n",
       "  </thead>\n",
       "  <tbody>\n",
       "    <tr>\n",
       "      <th>0</th>\n",
       "      <td>76561197970982479</td>\n",
       "      <td>http://steamcommunity.com/profiles/76561197970...</td>\n",
       "      <td>[{'funny': '', 'posted': 'Posted November 5, 2...</td>\n",
       "    </tr>\n",
       "    <tr>\n",
       "      <th>1</th>\n",
       "      <td>js41637</td>\n",
       "      <td>http://steamcommunity.com/id/js41637</td>\n",
       "      <td>[{'funny': '', 'posted': 'Posted June 24, 2014...</td>\n",
       "    </tr>\n",
       "    <tr>\n",
       "      <th>2</th>\n",
       "      <td>evcentric</td>\n",
       "      <td>http://steamcommunity.com/id/evcentric</td>\n",
       "      <td>[{'funny': '', 'posted': 'Posted February 3.',...</td>\n",
       "    </tr>\n",
       "  </tbody>\n",
       "</table>\n",
       "</div>"
      ],
      "text/plain": [
       "             user_id                                           user_url  \\\n",
       "0  76561197970982479  http://steamcommunity.com/profiles/76561197970...   \n",
       "1            js41637               http://steamcommunity.com/id/js41637   \n",
       "2          evcentric             http://steamcommunity.com/id/evcentric   \n",
       "\n",
       "                                             reviews  \n",
       "0  [{'funny': '', 'posted': 'Posted November 5, 2...  \n",
       "1  [{'funny': '', 'posted': 'Posted June 24, 2014...  \n",
       "2  [{'funny': '', 'posted': 'Posted February 3.',...  "
      ]
     },
     "execution_count": 110,
     "metadata": {},
     "output_type": "execute_result"
    }
   ],
   "source": [
    "user_reviews = user_reviews.dropna(thresh=3)\n",
    "print(user_reviews.shape)\n",
    "user_reviews.head(3)\n"
   ]
  },
  {
   "cell_type": "markdown",
   "metadata": {},
   "source": [
    "### En este momento ya poseemos los 3 dataframes necesarios para comenzar a trabajar a responder las preguntas solicitadas, vamos a ello una por una\n"
   ]
  },
  {
   "cell_type": "code",
   "execution_count": 129,
   "metadata": {},
   "outputs": [
    {
     "data": {
      "text/html": [
       "<div>\n",
       "<style scoped>\n",
       "    .dataframe tbody tr th:only-of-type {\n",
       "        vertical-align: middle;\n",
       "    }\n",
       "\n",
       "    .dataframe tbody tr th {\n",
       "        vertical-align: top;\n",
       "    }\n",
       "\n",
       "    .dataframe thead th {\n",
       "        text-align: right;\n",
       "    }\n",
       "</style>\n",
       "<table border=\"1\" class=\"dataframe\">\n",
       "  <thead>\n",
       "    <tr style=\"text-align: right;\">\n",
       "      <th></th>\n",
       "      <th>id</th>\n",
       "      <th>title</th>\n",
       "      <th>price</th>\n",
       "    </tr>\n",
       "  </thead>\n",
       "  <tbody>\n",
       "    <tr>\n",
       "      <th>88310</th>\n",
       "      <td>761140</td>\n",
       "      <td>Lost Summoner Kitty</td>\n",
       "      <td>4.99</td>\n",
       "    </tr>\n",
       "    <tr>\n",
       "      <th>88311</th>\n",
       "      <td>643980</td>\n",
       "      <td>Ironbound</td>\n",
       "      <td>Free To Play</td>\n",
       "    </tr>\n",
       "    <tr>\n",
       "      <th>88312</th>\n",
       "      <td>670290</td>\n",
       "      <td>Real Pool 3D - Poolians</td>\n",
       "      <td>Free to Play</td>\n",
       "    </tr>\n",
       "    <tr>\n",
       "      <th>88313</th>\n",
       "      <td>767400</td>\n",
       "      <td>弹炸人2222</td>\n",
       "      <td>0.99</td>\n",
       "    </tr>\n",
       "    <tr>\n",
       "      <th>88314</th>\n",
       "      <td>773570</td>\n",
       "      <td>NaN</td>\n",
       "      <td>2.99</td>\n",
       "    </tr>\n",
       "    <tr>\n",
       "      <th>...</th>\n",
       "      <td>...</td>\n",
       "      <td>...</td>\n",
       "      <td>...</td>\n",
       "    </tr>\n",
       "    <tr>\n",
       "      <th>120440</th>\n",
       "      <td>773640</td>\n",
       "      <td>Colony On Mars</td>\n",
       "      <td>1.99</td>\n",
       "    </tr>\n",
       "    <tr>\n",
       "      <th>120441</th>\n",
       "      <td>733530</td>\n",
       "      <td>LOGistICAL: South Africa</td>\n",
       "      <td>4.99</td>\n",
       "    </tr>\n",
       "    <tr>\n",
       "      <th>120442</th>\n",
       "      <td>610660</td>\n",
       "      <td>Russian Roads</td>\n",
       "      <td>1.99</td>\n",
       "    </tr>\n",
       "    <tr>\n",
       "      <th>120443</th>\n",
       "      <td>658870</td>\n",
       "      <td>EXIT 2 - Directions</td>\n",
       "      <td>4.99</td>\n",
       "    </tr>\n",
       "    <tr>\n",
       "      <th>120444</th>\n",
       "      <td>681550</td>\n",
       "      <td>NaN</td>\n",
       "      <td>4.99</td>\n",
       "    </tr>\n",
       "  </tbody>\n",
       "</table>\n",
       "<p>32135 rows × 3 columns</p>\n",
       "</div>"
      ],
      "text/plain": [
       "            id                     title         price\n",
       "88310   761140       Lost Summoner Kitty          4.99\n",
       "88311   643980                 Ironbound  Free To Play\n",
       "88312   670290   Real Pool 3D - Poolians  Free to Play\n",
       "88313   767400                   弹炸人2222          0.99\n",
       "88314   773570                       NaN          2.99\n",
       "...        ...                       ...           ...\n",
       "120440  773640            Colony On Mars          1.99\n",
       "120441  733530  LOGistICAL: South Africa          4.99\n",
       "120442  610660             Russian Roads          1.99\n",
       "120443  658870       EXIT 2 - Directions          4.99\n",
       "120444  681550                       NaN          4.99\n",
       "\n",
       "[32135 rows x 3 columns]"
      ]
     },
     "execution_count": 129,
     "metadata": {},
     "output_type": "execute_result"
    }
   ],
   "source": [
    "endpoint1 = steam[['id', 'title', 'price']]\n",
    "endpoint1"
   ]
  },
  {
   "cell_type": "code",
   "execution_count": 168,
   "metadata": {},
   "outputs": [
    {
     "data": {
      "text/plain": [
       "277"
      ]
     },
     "execution_count": 168,
     "metadata": {},
     "output_type": "execute_result"
    }
   ],
   "source": []
  },
  {
   "cell_type": "code",
   "execution_count": 233,
   "metadata": {},
   "outputs": [
    {
     "name": "stdout",
     "output_type": "stream",
     "text": [
      "[{'item_id': '1200', 'item_name': 'Red Orchestra: Ostfront 41-45', 'playtime_forever': 923, 'playtime_2weeks': 0}, {'item_id': '1230', 'item_name': 'Mare Nostrum', 'playtime_forever': 0, 'playtime_2weeks': 0}, {'item_id': '1280', 'item_name': \"Darkest Hour: Europe '44-'45\", 'playtime_forever': 0, 'playtime_2weeks': 0}, {'item_id': '1520', 'item_name': 'DEFCON', 'playtime_forever': 158, 'playtime_2weeks': 0}, {'item_id': '220', 'item_name': 'Half-Life 2', 'playtime_forever': 1323, 'playtime_2weeks': 0}, {'item_id': '320', 'item_name': 'Half-Life 2: Deathmatch', 'playtime_forever': 0, 'playtime_2weeks': 0}, {'item_id': '340', 'item_name': 'Half-Life 2: Lost Coast', 'playtime_forever': 90, 'playtime_2weeks': 0}, {'item_id': '360', 'item_name': 'Half-Life Deathmatch: Source', 'playtime_forever': 0, 'playtime_2weeks': 0}, {'item_id': '380', 'item_name': 'Half-Life 2: Episode One', 'playtime_forever': 234, 'playtime_2weeks': 0}, {'item_id': '400', 'item_name': 'Portal', 'playtime_forever': 113, 'playtime_2weeks': 0}, {'item_id': '420', 'item_name': 'Half-Life 2: Episode Two', 'playtime_forever': 507, 'playtime_2weeks': 0}, {'item_id': '13250', 'item_name': 'Unreal Gold', 'playtime_forever': 21, 'playtime_2weeks': 0}, {'item_id': '10500', 'item_name': 'Empire: Total War', 'playtime_forever': 6038, 'playtime_2weeks': 0}, {'item_id': '1250', 'item_name': 'Killing Floor', 'playtime_forever': 1646, 'playtime_2weeks': 0}, {'item_id': '35420', 'item_name': 'Killing Floor Mod: Defence Alliance 2', 'playtime_forever': 13, 'playtime_2weeks': 0}, {'item_id': '3720', 'item_name': 'Evil Genius', 'playtime_forever': 1393, 'playtime_2weeks': 0}, {'item_id': '32360', 'item_name': 'The Secret of Monkey Island: Special Edition', 'playtime_forever': 8, 'playtime_2weeks': 0}, {'item_id': '8980', 'item_name': 'Borderlands', 'playtime_forever': 9202, 'playtime_2weeks': 0}, {'item_id': '550', 'item_name': 'Left 4 Dead 2', 'playtime_forever': 82, 'playtime_2weeks': 0}, {'item_id': '223530', 'item_name': 'Left 4 Dead 2 Beta', 'playtime_forever': 0, 'playtime_2weeks': 0}, {'item_id': '22380', 'item_name': 'Fallout: New Vegas', 'playtime_forever': 11311, 'playtime_2weeks': 0}, {'item_id': '31280', 'item_name': 'Poker Night at the Inventory', 'playtime_forever': 1090, 'playtime_2weeks': 0}, {'item_id': '67000', 'item_name': 'The Polynomial', 'playtime_forever': 4, 'playtime_2weeks': 0}, {'item_id': '63200', 'item_name': 'Monday Night Combat', 'playtime_forever': 320, 'playtime_2weeks': 0}, {'item_id': '620', 'item_name': 'Portal 2', 'playtime_forever': 1485, 'playtime_2weeks': 0}, {'item_id': '47900', 'item_name': 'Dragon Age II', 'playtime_forever': 2301, 'playtime_2weeks': 0}, {'item_id': '42910', 'item_name': 'Magicka', 'playtime_forever': 428, 'playtime_2weeks': 0}, {'item_id': '28050', 'item_name': 'Deus Ex: Human Revolution', 'playtime_forever': 7689, 'playtime_2weeks': 0}, {'item_id': '2200', 'item_name': 'Quake III Arena', 'playtime_forever': 0, 'playtime_2weeks': 0}, {'item_id': '2210', 'item_name': 'Quake 4', 'playtime_forever': 284, 'playtime_2weeks': 0}, {'item_id': '2270', 'item_name': 'Wolfenstein 3D', 'playtime_forever': 0, 'playtime_2weeks': 0}, {'item_id': '2280', 'item_name': 'The Ultimate DOOM', 'playtime_forever': 87, 'playtime_2weeks': 0}, {'item_id': '2290', 'item_name': 'Final DOOM', 'playtime_forever': 4, 'playtime_2weeks': 0}, {'item_id': '2300', 'item_name': 'DOOM II: Hell on Earth', 'playtime_forever': 10, 'playtime_2weeks': 0}, {'item_id': '2310', 'item_name': 'Quake', 'playtime_forever': 143, 'playtime_2weeks': 0}, {'item_id': '2320', 'item_name': 'Quake II', 'playtime_forever': 48, 'playtime_2weeks': 0}, {'item_id': '2330', 'item_name': 'Quake II: The Reckoning', 'playtime_forever': 0, 'playtime_2weeks': 0}, {'item_id': '2340', 'item_name': 'Quake II: Ground Zero', 'playtime_forever': 0, 'playtime_2weeks': 0}, {'item_id': '2350', 'item_name': 'Quake III: Team Arena', 'playtime_forever': 0, 'playtime_2weeks': 0}, {'item_id': '2360', 'item_name': 'HeXen: Beyond Heretic', 'playtime_forever': 0, 'playtime_2weeks': 0}, {'item_id': '2370', 'item_name': 'HeXen: Deathkings of the Dark Citadel', 'playtime_forever': 0, 'playtime_2weeks': 0}, {'item_id': '2390', 'item_name': 'Heretic: Shadow of the Serpent Riders', 'playtime_forever': 0, 'playtime_2weeks': 0}, {'item_id': '9000', 'item_name': 'Wolfenstein 3D: Spear of Destiny', 'playtime_forever': 0, 'playtime_2weeks': 0}, {'item_id': '9010', 'item_name': 'Return to Castle Wolfenstein', 'playtime_forever': 616, 'playtime_2weeks': 0}, {'item_id': '9030', 'item_name': 'Quake Mission Pack 2: Dissolution of Eternity', 'playtime_forever': 0, 'playtime_2weeks': 0}, {'item_id': '9040', 'item_name': 'Quake Mission Pack 1: Scourge of Armagon', 'playtime_forever': 0, 'playtime_2weeks': 0}, {'item_id': '9050', 'item_name': 'DOOM 3', 'playtime_forever': 32, 'playtime_2weeks': 0}, {'item_id': '9060', 'item_name': 'HeXen II', 'playtime_forever': 0, 'playtime_2weeks': 0}, {'item_id': '9070', 'item_name': 'DOOM 3: Resurrection of Evil', 'playtime_forever': 0, 'playtime_2weeks': 0}, {'item_id': '9160', 'item_name': 'Master Levels for DOOM II', 'playtime_forever': 0, 'playtime_2weeks': 0}, {'item_id': '9180', 'item_name': 'Commander Keen Complete Pack', 'playtime_forever': 218, 'playtime_2weeks': 0}, {'item_id': '22310', 'item_name': 'Rogue Warrior', 'playtime_forever': 0, 'playtime_2weeks': 0}, {'item_id': '22320', 'item_name': 'The Elder Scrolls III: Morrowind', 'playtime_forever': 0, 'playtime_2weeks': 0}, {'item_id': '22330', 'item_name': 'The Elder Scrolls IV: Oblivion ', 'playtime_forever': 56, 'playtime_2weeks': 0}, {'item_id': '22340', 'item_name': 'Call of Cthulhu: Dark Corners of the Earth', 'playtime_forever': 0, 'playtime_2weeks': 0}, {'item_id': '22350', 'item_name': 'BRINK', 'playtime_forever': 933, 'playtime_2weeks': 0}, {'item_id': '22370', 'item_name': 'Fallout 3 - Game of the Year Edition', 'playtime_forever': 0, 'playtime_2weeks': 0}, {'item_id': '22450', 'item_name': \"Hunted: The Demon's Forge\", 'playtime_forever': 0, 'playtime_2weeks': 0}, {'item_id': '107200', 'item_name': 'Space Pirates and Zombies', 'playtime_forever': 3225, 'playtime_2weeks': 0}, {'item_id': '2820', 'item_name': 'X3: Terran Conflict', 'playtime_forever': 33, 'playtime_2weeks': 0}, {'item_id': '201310', 'item_name': 'X3: Albion Prelude', 'playtime_forever': 5957, 'playtime_2weeks': 0}, {'item_id': '49520', 'item_name': 'Borderlands 2', 'playtime_forever': 8106, 'playtime_2weeks': 0}, {'item_id': '212680', 'item_name': 'FTL: Faster Than Light', 'playtime_forever': 4053, 'playtime_2weeks': 0}, {'item_id': '205790', 'item_name': 'Dota 2 Test', 'playtime_forever': 0, 'playtime_2weeks': 0}, {'item_id': '57690', 'item_name': 'Tropico 4', 'playtime_forever': 471, 'playtime_2weeks': 0}, {'item_id': '212070', 'item_name': 'Star Conflict', 'playtime_forever': 1635, 'playtime_2weeks': 0}, {'item_id': '218230', 'item_name': 'PlanetSide 2', 'playtime_forever': 5996, 'playtime_2weeks': 0}, {'item_id': '230410', 'item_name': 'Warframe', 'playtime_forever': 1381, 'playtime_2weeks': 59}, {'item_id': '3483', 'item_name': 'Peggle Extreme', 'playtime_forever': 36, 'playtime_2weeks': 0}, {'item_id': '224500', 'item_name': 'Gnomoria', 'playtime_forever': 13618, 'playtime_2weeks': 0}, {'item_id': '214730', 'item_name': 'Space Rangers HD: A War Apart', 'playtime_forever': 598, 'playtime_2weeks': 0}, {'item_id': '233450', 'item_name': 'Prison Architect', 'playtime_forever': 43, 'playtime_2weeks': 0}, {'item_id': '233720', 'item_name': 'Surgeon Simulator', 'playtime_forever': 14, 'playtime_2weeks': 0}, {'item_id': '241600', 'item_name': 'Rogue Legacy', 'playtime_forever': 227, 'playtime_2weeks': 0}, {'item_id': '238240', 'item_name': 'Edge of Space', 'playtime_forever': 515, 'playtime_2weeks': 0}, {'item_id': '248390', 'item_name': 'Craft The World', 'playtime_forever': 80, 'playtime_2weeks': 0}, {'item_id': '248820', 'item_name': 'Risk of Rain', 'playtime_forever': 2328, 'playtime_2weeks': 0}, {'item_id': '239350', 'item_name': 'Spelunky', 'playtime_forever': 5, 'playtime_2weeks': 0}, {'item_id': '2870', 'item_name': 'X Rebirth', 'playtime_forever': 143, 'playtime_2weeks': 0}, {'item_id': '252110', 'item_name': 'Lovers in a Dangerous Spacetime', 'playtime_forever': 45, 'playtime_2weeks': 0}, {'item_id': '254200', 'item_name': 'FortressCraft Evolved', 'playtime_forever': 4671, 'playtime_2weeks': 1}, {'item_id': '226620', 'item_name': 'Desktop Dungeons', 'playtime_forever': 98, 'playtime_2weeks': 0}, {'item_id': '259570', 'item_name': 'Eden Star :: Destroy - Build - Protect', 'playtime_forever': 158, 'playtime_2weeks': 0}, {'item_id': '221910', 'item_name': 'The Stanley Parable', 'playtime_forever': 136, 'playtime_2weeks': 0}, {'item_id': '263360', 'item_name': '3089 -- Futuristic Action RPG', 'playtime_forever': 447, 'playtime_2weeks': 0}, {'item_id': '265950', 'item_name': 'Ether One', 'playtime_forever': 52, 'playtime_2weeks': 0}, {'item_id': '391920', 'item_name': 'Ether One Redux', 'playtime_forever': 0, 'playtime_2weeks': 0}, {'item_id': '211820', 'item_name': 'Starbound', 'playtime_forever': 67, 'playtime_2weeks': 67}, {'item_id': '367540', 'item_name': 'Starbound - Unstable', 'playtime_forever': 0, 'playtime_2weeks': 0}, {'item_id': '275850', 'item_name': \"No Man's Sky\", 'playtime_forever': 1219, 'playtime_2weeks': 141}, {'item_id': '280220', 'item_name': 'Creeper World 3: Arc Eternal', 'playtime_forever': 5690, 'playtime_2weeks': 0}, {'item_id': '282140', 'item_name': 'SOMA', 'playtime_forever': 85, 'playtime_2weeks': 0}, {'item_id': '285310', 'item_name': 'RollerCoaster Tycoon: Deluxe', 'playtime_forever': 2, 'playtime_2weeks': 0}, {'item_id': '292330', 'item_name': 'Starship Corporation', 'playtime_forever': 269, 'playtime_2weeks': 0}, {'item_id': '226860', 'item_name': 'Galactic Civilizations III', 'playtime_forever': 295, 'playtime_2weeks': 0}, {'item_id': '237930', 'item_name': 'Transistor', 'playtime_forever': 508, 'playtime_2weeks': 0}, {'item_id': '38410', 'item_name': 'Fallout 2', 'playtime_forever': 226, 'playtime_2weeks': 0}, {'item_id': '310380', 'item_name': 'Fractured Space', 'playtime_forever': 7, 'playtime_2weeks': 0}, {'item_id': '9480', 'item_name': 'Saints Row 2', 'playtime_forever': 0, 'playtime_2weeks': 0}, {'item_id': '55230', 'item_name': 'Saints Row: The Third', 'playtime_forever': 0, 'playtime_2weeks': 0}, {'item_id': '206420', 'item_name': 'Saints Row IV', 'playtime_forever': 1293, 'playtime_2weeks': 0}, {'item_id': '247080', 'item_name': 'Crypt of the NecroDancer', 'playtime_forever': 114, 'playtime_2weeks': 0}, {'item_id': '315460', 'item_name': 'Dig or Die', 'playtime_forever': 207, 'playtime_2weeks': 0}, {'item_id': '324260', 'item_name': 'VoidExpanse', 'playtime_forever': 425, 'playtime_2weeks': 0}, {'item_id': '275670', 'item_name': 'Space Run', 'playtime_forever': 580, 'playtime_2weeks': 0}, {'item_id': '328080', 'item_name': 'Retro-Pixel Castles', 'playtime_forever': 2, 'playtime_2weeks': 0}, {'item_id': '730', 'item_name': 'Counter-Strike: Global Offensive', 'playtime_forever': 1569, 'playtime_2weeks': 0}, {'item_id': '257510', 'item_name': 'The Talos Principle', 'playtime_forever': 1164, 'playtime_2weeks': 0}, {'item_id': '319630', 'item_name': 'Life Is Strange™', 'playtime_forever': 1024, 'playtime_2weeks': 0}, {'item_id': '340580', 'item_name': 'Armed with Wings: Rearmed', 'playtime_forever': 7, 'playtime_2weeks': 0}, {'item_id': '344850', 'item_name': 'Big Pharma', 'playtime_forever': 332, 'playtime_2weeks': 0}, {'item_id': '346010', 'item_name': 'Besiege', 'playtime_forever': 22, 'playtime_2weeks': 0}, {'item_id': '245470', 'item_name': 'Democracy 3', 'playtime_forever': 460, 'playtime_2weeks': 0}, {'item_id': '351510', 'item_name': 'Quiplash', 'playtime_forever': 0, 'playtime_2weeks': 0}, {'item_id': '365300', 'item_name': 'Transmissions: Element 120', 'playtime_forever': 8, 'playtime_2weeks': 0}, {'item_id': '365450', 'item_name': 'Hacknet', 'playtime_forever': 20, 'playtime_2weeks': 0}, {'item_id': '298180', 'item_name': 'The Desolate Hope', 'playtime_forever': 17, 'playtime_2weeks': 0}, {'item_id': '238370', 'item_name': 'Magicka 2', 'playtime_forever': 0, 'playtime_2weeks': 0}, {'item_id': '397080', 'item_name': 'Magicka 2: Spell Balance Beta', 'playtime_forever': 0, 'playtime_2weeks': 0}, {'item_id': '370360', 'item_name': 'TIS-100', 'playtime_forever': 403, 'playtime_2weeks': 0}, {'item_id': '322330', 'item_name': \"Don't Starve Together\", 'playtime_forever': 138, 'playtime_2weeks': 0}, {'item_id': '372190', 'item_name': 'Astro Lords: Oort Cloud', 'playtime_forever': 5, 'playtime_2weeks': 0}, {'item_id': '377160', 'item_name': 'Fallout 4', 'playtime_forever': 8344, 'playtime_2weeks': 0}, {'item_id': '383120', 'item_name': 'Empyrion - Galactic Survival', 'playtime_forever': 1803, 'playtime_2weeks': 0}, {'item_id': '388880', 'item_name': 'Oxenfree', 'playtime_forever': 54, 'playtime_2weeks': 0}, {'item_id': '234140', 'item_name': 'Mad Max', 'playtime_forever': 134, 'playtime_2weeks': 0}, {'item_id': '391540', 'item_name': 'Undertale', 'playtime_forever': 30, 'playtime_2weeks': 0}, {'item_id': '396890', 'item_name': 'Gridworld', 'playtime_forever': 5, 'playtime_2weeks': 0}, {'item_id': '337000', 'item_name': 'Deus Ex: Mankind Divided™', 'playtime_forever': 65, 'playtime_2weeks': 0}, {'item_id': '404410', 'item_name': 'Endless Sky', 'playtime_forever': 53, 'playtime_2weeks': 0}, {'item_id': '416690', 'item_name': 'Oh...Sir!', 'playtime_forever': 0, 'playtime_2weeks': 0}, {'item_id': '268500', 'item_name': 'XCOM 2', 'playtime_forever': 2107, 'playtime_2weeks': 0}, {'item_id': '427520', 'item_name': 'Factorio', 'playtime_forever': 1658, 'playtime_2weeks': 0}, {'item_id': '364360', 'item_name': 'Total War: WARHAMMER', 'playtime_forever': 29, 'playtime_2weeks': 0}, {'item_id': '452780', 'item_name': 'RuneScape: Idle Adventures', 'playtime_forever': 2660, 'playtime_2weeks': 2472}, {'item_id': '454060', 'item_name': 'Blueprint Tycoon', 'playtime_forever': 23, 'playtime_2weeks': 0}, {'item_id': '466170', 'item_name': 'Idling to Rule the Gods', 'playtime_forever': 28545, 'playtime_2weeks': 1554}]\n"
     ]
    }
   ],
   "source": [
    "items_ids = []\n",
    "lista_items = user_items[user_items['user_id'] == 'evcentric']['items']\n",
    "for i in lista_items:\n",
    "    print(i)\n"
   ]
  },
  {
   "cell_type": "code",
   "execution_count": 206,
   "metadata": {},
   "outputs": [],
   "source": [
    "\"\"\"\n",
    "def userdata( User_id : str ): Debe devolver cantidad de dinero gastado por el usuario,\n",
    " el porcentaje de recomendación en base a reviews.recommend y cantidad de items.\n",
    "\"\"\"\n",
    "def userdata(id):\n",
    "    user = user_items[user_items['user_id'] == id]\n",
    "    iteraciones = user['items_count']\n",
    "    items = user['items']\n",
    "    \n",
    "    "
   ]
  },
  {
   "cell_type": "code",
   "execution_count": 207,
   "metadata": {},
   "outputs": [
    {
     "data": {
      "text/plain": [
       "2    [{'item_id': '1200', 'item_name': 'Red Orchest...\n",
       "Name: items, dtype: object"
      ]
     },
     "execution_count": 207,
     "metadata": {},
     "output_type": "execute_result"
    }
   ],
   "source": [
    "userdata('evcentric')"
   ]
  },
  {
   "cell_type": "code",
   "execution_count": null,
   "metadata": {},
   "outputs": [],
   "source": []
  }
 ],
 "metadata": {
  "kernelspec": {
   "display_name": "Python 3",
   "language": "python",
   "name": "python3"
  },
  "language_info": {
   "codemirror_mode": {
    "name": "ipython",
    "version": 3
   },
   "file_extension": ".py",
   "mimetype": "text/x-python",
   "name": "python",
   "nbconvert_exporter": "python",
   "pygments_lexer": "ipython3",
   "version": "3.11.1"
  },
  "orig_nbformat": 4
 },
 "nbformat": 4,
 "nbformat_minor": 2
}
